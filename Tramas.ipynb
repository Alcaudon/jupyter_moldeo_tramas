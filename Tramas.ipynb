{
 "cells": [
  {
   "cell_type": "code",
   "execution_count": 1,
   "id": "5973f921",
   "metadata": {},
   "outputs": [
    {
     "ename": "KeyboardInterrupt",
     "evalue": "",
     "output_type": "error",
     "traceback": [
      "\u001b[1;31m---------------------------------------------------------------------------\u001b[0m",
      "\u001b[1;31mKeyboardInterrupt\u001b[0m                         Traceback (most recent call last)",
      "Cell \u001b[1;32mIn [1], line 1\u001b[0m\n\u001b[1;32m----> 1\u001b[0m \u001b[38;5;28;01mimport\u001b[39;00m \u001b[38;5;21;01mpandas\u001b[39;00m \u001b[38;5;28;01mas\u001b[39;00m \u001b[38;5;21;01mpd\u001b[39;00m\n\u001b[0;32m      2\u001b[0m \u001b[38;5;28;01mimport\u001b[39;00m \u001b[38;5;21;01mos\u001b[39;00m\n",
      "File \u001b[1;32mc:\\Users\\luis.barriga\\AppData\\Local\\Programs\\Python\\Python310\\lib\\site-packages\\pandas\\__init__.py:11\u001b[0m\n\u001b[0;32m      9\u001b[0m \u001b[39mfor\u001b[39;00m _dependency \u001b[39min\u001b[39;00m _hard_dependencies:\n\u001b[0;32m     10\u001b[0m     \u001b[39mtry\u001b[39;00m:\n\u001b[1;32m---> 11\u001b[0m         \u001b[39m__import__\u001b[39;49m(_dependency)\n\u001b[0;32m     12\u001b[0m     \u001b[39mexcept\u001b[39;00m \u001b[39mImportError\u001b[39;00m \u001b[39mas\u001b[39;00m _e:\n\u001b[0;32m     13\u001b[0m         _missing_dependencies\u001b[39m.\u001b[39mappend(\u001b[39mf\u001b[39m\u001b[39m\"\u001b[39m\u001b[39m{\u001b[39;00m_dependency\u001b[39m}\u001b[39;00m\u001b[39m: \u001b[39m\u001b[39m{\u001b[39;00m_e\u001b[39m}\u001b[39;00m\u001b[39m\"\u001b[39m)\n",
      "File \u001b[1;32mc:\\Users\\luis.barriga\\AppData\\Local\\Programs\\Python\\Python310\\lib\\site-packages\\numpy\\__init__.py:143\u001b[0m\n\u001b[0;32m    141\u001b[0m \u001b[39mfrom\u001b[39;00m \u001b[39m.\u001b[39;00m\u001b[39mcore\u001b[39;00m \u001b[39mimport\u001b[39;00m \u001b[39m*\u001b[39m\n\u001b[0;32m    142\u001b[0m \u001b[39mfrom\u001b[39;00m \u001b[39m.\u001b[39;00m \u001b[39mimport\u001b[39;00m compat\n\u001b[1;32m--> 143\u001b[0m \u001b[39mfrom\u001b[39;00m \u001b[39m.\u001b[39;00m \u001b[39mimport\u001b[39;00m lib\n\u001b[0;32m    144\u001b[0m \u001b[39m# NOTE: to be revisited following future namespace cleanup.\u001b[39;00m\n\u001b[0;32m    145\u001b[0m \u001b[39m# See gh-14454 and gh-15672 for discussion.\u001b[39;00m\n\u001b[0;32m    146\u001b[0m \u001b[39mfrom\u001b[39;00m \u001b[39m.\u001b[39;00m\u001b[39mlib\u001b[39;00m \u001b[39mimport\u001b[39;00m \u001b[39m*\u001b[39m\n",
      "File \u001b[1;32mc:\\Users\\luis.barriga\\AppData\\Local\\Programs\\Python\\Python310\\lib\\site-packages\\numpy\\lib\\__init__.py:27\u001b[0m\n\u001b[0;32m     25\u001b[0m \u001b[39mfrom\u001b[39;00m \u001b[39m.\u001b[39;00m\u001b[39mindex_tricks\u001b[39;00m \u001b[39mimport\u001b[39;00m \u001b[39m*\u001b[39m\n\u001b[0;32m     26\u001b[0m \u001b[39mfrom\u001b[39;00m \u001b[39m.\u001b[39;00m\u001b[39mfunction_base\u001b[39;00m \u001b[39mimport\u001b[39;00m \u001b[39m*\u001b[39m\n\u001b[1;32m---> 27\u001b[0m \u001b[39mfrom\u001b[39;00m \u001b[39m.\u001b[39;00m\u001b[39mnanfunctions\u001b[39;00m \u001b[39mimport\u001b[39;00m \u001b[39m*\u001b[39m\n\u001b[0;32m     28\u001b[0m \u001b[39mfrom\u001b[39;00m \u001b[39m.\u001b[39;00m\u001b[39mshape_base\u001b[39;00m \u001b[39mimport\u001b[39;00m \u001b[39m*\u001b[39m\n\u001b[0;32m     29\u001b[0m \u001b[39mfrom\u001b[39;00m \u001b[39m.\u001b[39;00m\u001b[39mstride_tricks\u001b[39;00m \u001b[39mimport\u001b[39;00m \u001b[39m*\u001b[39m\n",
      "File \u001b[1;32m<frozen importlib._bootstrap>:1027\u001b[0m, in \u001b[0;36m_find_and_load\u001b[1;34m(name, import_)\u001b[0m\n",
      "File \u001b[1;32m<frozen importlib._bootstrap>:1006\u001b[0m, in \u001b[0;36m_find_and_load_unlocked\u001b[1;34m(name, import_)\u001b[0m\n",
      "File \u001b[1;32m<frozen importlib._bootstrap>:688\u001b[0m, in \u001b[0;36m_load_unlocked\u001b[1;34m(spec)\u001b[0m\n",
      "File \u001b[1;32m<frozen importlib._bootstrap_external>:879\u001b[0m, in \u001b[0;36mexec_module\u001b[1;34m(self, module)\u001b[0m\n",
      "File \u001b[1;32m<frozen importlib._bootstrap_external>:975\u001b[0m, in \u001b[0;36mget_code\u001b[1;34m(self, fullname)\u001b[0m\n",
      "File \u001b[1;32m<frozen importlib._bootstrap_external>:1074\u001b[0m, in \u001b[0;36mget_data\u001b[1;34m(self, path)\u001b[0m\n",
      "\u001b[1;31mKeyboardInterrupt\u001b[0m: "
     ]
    }
   ],
   "source": [
    "import pandas as pd\n",
    "import os"
   ]
  },
  {
   "cell_type": "code",
   "execution_count": 196,
   "id": "2568e88c",
   "metadata": {},
   "outputs": [],
   "source": [
    "mes_referencia=\"09\"\n",
    "ano_referencia=\"22\""
   ]
  },
  {
   "cell_type": "code",
   "execution_count": 197,
   "id": "5c4d2d4e",
   "metadata": {},
   "outputs": [],
   "source": [
    "def suma_mes(mes):\n",
    "    mes_cadena=str(int(mes)+1)\n",
    "    if len(mes_cadena)==1:\n",
    "        mes_cadena=\"0\"+ mes_cadena\n",
    "    return mes_cadena"
   ]
  },
  {
   "cell_type": "code",
   "execution_count": 198,
   "id": "cd292808",
   "metadata": {},
   "outputs": [],
   "source": [
    "tramas=[]\n",
    "for (root,dirs,files) in os.walk('TRAMAS'):\n",
    "    for name in files:\n",
    "        if name[0:1]==\"M\":\n",
    "            dia=name[12:14]\n",
    "            mes=name[15:17]\n",
    "            ano=name[20:22]\n",
    "            if (mes_referencia==mes and ano_referencia == ano) or (dia==\"01\" and suma_mes(mes_referencia)==mes):\n",
    "                tramas.append(root + \"\\\\\"+ os.path.join(name))"
   ]
  },
  {
   "cell_type": "code",
   "execution_count": 199,
   "id": "56acba8d",
   "metadata": {},
   "outputs": [],
   "source": [
    "# pandas concat csv files\n",
    "df = pd.concat((pd.read_csv(f, sep=\";\", encoding=\"latin-1\", header=None, skiprows=1) for f in tramas), ignore_index=False)\n",
    "df.columns =  [\"Tipo\", \"Estacion\", \"Fecha\", \"Hora_inicio\", \"Mezcla\", \"Premezcla\", \"Batch\", \"Receta\", \"Kg_corcho\", \"Minutos_pesada\", \"Kg_DU\", \"Tiempo_vaciado\", \"Tiempo_inyeccion_agua\", \"Kg_Agua\", \"Tiempo_mezcla_agua\", \"Tiempo_inyeccion_cola\", \"Kg_cola\", \"Tiempo_mezcla_cola\", \"Tiempo_vaciado_mezcla\", \"Molde_inicial_ext1\", \"Molde_final_ext1\", \"Receta\", \"Molde_inicial_ext2\", \"Molde_final_ext2\", \"Tapones_buenos_g1\", \"Tapones_malos_g1\", \"Tiempo_extraccion_g1\", \"Tapones_buenos_g2\", \"Tapones_malos_g2\", \"Tiempo_extraccion_g2\", \"Tapones_buenos_descartados_g1\", \"Tapones_buenos_descartados_g2\", \"nada_1\", \"nada_2\"]"
   ]
  },
  {
   "cell_type": "code",
   "execution_count": 200,
   "id": "97aa6864",
   "metadata": {},
   "outputs": [],
   "source": [
    "df.drop(columns=[\"Tipo\", \"Hora_inicio\", \"Premezcla\", \"Batch\", \"Receta\", \"Minutos_pesada\", \"Tiempo_vaciado\", \"Tiempo_inyeccion_agua\", \"Kg_Agua\", \"Tiempo_mezcla_agua\", \"Tiempo_inyeccion_cola\", \"Tiempo_mezcla_cola\", \"Tiempo_vaciado_mezcla\", \"Molde_inicial_ext1\", \"Molde_final_ext1\", \"Receta\", \"Molde_inicial_ext2\", \"Molde_final_ext2\", \"Tiempo_extraccion_g1\", \"Tiempo_extraccion_g2\",\"nada_1\", \"nada_2\"], inplace=True)\t"
   ]
  },
  {
   "cell_type": "code",
   "execution_count": 201,
   "id": "a67a0060",
   "metadata": {},
   "outputs": [],
   "source": [
    "df=df.loc[:, [\"Fecha\", \"Estacion\", \"Mezcla\", \"Kg_corcho\", \"Kg_cola\", \"Kg_DU\", \"Tapones_buenos_g1\", \"Tapones_buenos_g2\", \"Tapones_malos_g1\", \"Tapones_malos_g2\", \"Tapones_buenos_descartados_g1\", \"Tapones_buenos_descartados_g2\"]].sort_values(by=[\"Fecha\", \"Estacion\", \"Mezcla\"])"
   ]
  },
  {
   "cell_type": "code",
   "execution_count": 202,
   "id": "e448c2c6",
   "metadata": {},
   "outputs": [],
   "source": [
    "df.reset_index(level=0, inplace=True)\n",
    "df.drop(columns=[\"index\"], inplace=True)"
   ]
  },
  {
   "cell_type": "code",
   "execution_count": 203,
   "id": "e978f3a4",
   "metadata": {},
   "outputs": [],
   "source": [
    "tf=(df[\"Tapones_malos_g1\"]==65492)\n",
    "error_cantidad_malos= round((len(tf[tf==True])/len(df))*100,2)"
   ]
  },
  {
   "cell_type": "code",
   "execution_count": 204,
   "id": "1c11aab6",
   "metadata": {},
   "outputs": [],
   "source": [
    "df.loc[tf, \"Tapones_malos_g1\"]=0\n",
    "df2 = df.copy() "
   ]
  },
  {
   "cell_type": "code",
   "execution_count": 205,
   "id": "34233ee2",
   "metadata": {},
   "outputs": [],
   "source": [
    "df2.loc[:, \"Kg_corcho\"]=df2[\"Kg_corcho\"]/1000\n",
    "df2.loc[:, \"Kg_cola\"]=df2[\"Kg_cola\"]/1000\n",
    "df2.loc[:, \"Kg_DU\"]=df2[\"Kg_DU\"]/1000\n",
    "df2.loc[:, \"Tapones_buenos\"]=(df2[\"Tapones_buenos_g1\"]+df2[\"Tapones_buenos_g2\"])/1000\n",
    "df2.loc[:, \"Tapones_malos\"]=(df2[\"Tapones_malos_g1\"]+df2[\"Tapones_malos_g2\"])/1000\n",
    "df2.loc[:, \"Tapones_buenos_descartados\"]=(df2[\"Tapones_buenos_descartados_g1\"]+df2[\"Tapones_buenos_descartados_g2\"])/1000\n",
    "df2.drop(columns=[\"Tapones_buenos_g1\", \"Tapones_buenos_g2\", \"Tapones_malos_g1\", \"Tapones_malos_g2\", \"Tapones_buenos_descartados_g1\", \"Tapones_buenos_descartados_g2\"], inplace=True)\n",
    "df2[\"Estacion\"].replace([10], \"MA10\", inplace=True)\n",
    "df2[\"Estacion\"].replace([1], \"MA11\", inplace=True)\n",
    "df2[\"Estacion\"].replace([12], \"MA12\", inplace=True)\n",
    "df2[\"Estacion\"].replace([13], \"MA13\", inplace=True)\n",
    "df2[\"Estacion\"].replace([14], \"MA14\", inplace=True)\n",
    "df2[\"Estacion\"].replace([15], \"MA15\", inplace=True)"
   ]
  },
  {
   "cell_type": "code",
   "execution_count": null,
   "id": "44ea5d7d",
   "metadata": {},
   "outputs": [],
   "source": [
    "df2. drop_duplicates([\"Fecha\", \"Estacion\", \"Mezcla\"], keep=\"first\", inplace=True)\n",
    "df2"
   ]
  },
  {
   "cell_type": "code",
   "execution_count": 207,
   "id": "f04b43f1",
   "metadata": {},
   "outputs": [],
   "source": [
    "#create csv file with commain float fields\n",
    "df2.to_csv(\"tramas.csv\", sep=\";\", encoding=\"latin-1\", index=False,decimal=\",\")"
   ]
  }
 ],
 "metadata": {
  "kernelspec": {
   "display_name": "Python 3.10.2 64-bit",
   "language": "python",
   "name": "python3"
  },
  "language_info": {
   "codemirror_mode": {
    "name": "ipython",
    "version": 3
   },
   "file_extension": ".py",
   "mimetype": "text/x-python",
   "name": "python",
   "nbconvert_exporter": "python",
   "pygments_lexer": "ipython3",
   "version": "3.10.2"
  },
  "vscode": {
   "interpreter": {
    "hash": "63b9566f2ee17808342e65f1c72bcf10ae9ec18cf9a881870640c13c12a628c8"
   }
  }
 },
 "nbformat": 4,
 "nbformat_minor": 5
}
