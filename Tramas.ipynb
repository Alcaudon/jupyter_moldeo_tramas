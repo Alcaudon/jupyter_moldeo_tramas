{
 "cells": [
  {
   "cell_type": "markdown",
   "id": "f44d6bee",
   "metadata": {},
   "source": [
    "# Gestión de tramas de moldeo\n",
    "## Reconstrucción de las tramas de moldeo con las mezclas de Diam Process como soporte"
   ]
  },
  {
   "cell_type": "code",
   "execution_count": 1,
   "id": "5973f921",
   "metadata": {},
   "outputs": [],
   "source": [
    "import psycopg2\n",
    "import pandas as pd\n",
    "import os"
   ]
  },
  {
   "cell_type": "markdown",
   "id": "8ac58a4b",
   "metadata": {},
   "source": [
    "<p>Creamos las variables que vamos a utilizar para seleccionar los valores entre fechas</p>\n",
    "<p>El cóidigo funciona con una selección mínima del mes.</p>"
   ]
  },
  {
   "cell_type": "code",
   "execution_count": 2,
   "id": "2568e88c",
   "metadata": {},
   "outputs": [],
   "source": [
    "fecha_inicio=\"2022/09/01\"\n",
    "fecha_fin=\"2022/09/30\"\n",
    "\n",
    "mes_referencia=fecha_inicio[5:7]\n",
    "ano_referencia=fecha_inicio[2:4]\n"
   ]
  },
  {
   "cell_type": "markdown",
   "id": "25d08cad",
   "metadata": {},
   "source": [
    "Función que permite sumar +1 a la cadena del mes y permite que siga siendo una cadena de dos caracteres Ejem. 01 -> 02"
   ]
  },
  {
   "cell_type": "code",
   "execution_count": 3,
   "id": "5c4d2d4e",
   "metadata": {},
   "outputs": [],
   "source": [
    "def suma_mes(mes):\n",
    "    mes_cadena=str(int(mes)+1)\n",
    "    if len(mes_cadena)==1:\n",
    "        mes_cadena=\"0\"+ mes_cadena\n",
    "    return mes_cadena"
   ]
  },
  {
   "cell_type": "markdown",
   "id": "220a5da0",
   "metadata": {},
   "source": [
    "Recuperamos todos los ficheros del periodo seleccionado +1 día ya que contiene mezclas del mes que estamso estudiando"
   ]
  },
  {
   "cell_type": "code",
   "execution_count": 4,
   "id": "cd292808",
   "metadata": {},
   "outputs": [],
   "source": [
    "tramas=[]\n",
    "for (root,dirs,files) in os.walk('TRAMAS'):\n",
    "    for name in files:\n",
    "        if name[0:1]==\"M\":\n",
    "            dia=name[12:14]\n",
    "            mes=name[15:17]\n",
    "            ano=name[20:22]\n",
    "            if (mes_referencia==mes and ano_referencia == ano) or (dia==\"01\" and suma_mes(mes_referencia)==mes):\n",
    "                tramas.append(root + \"\\\\\"+ os.path.join(name))"
   ]
  },
  {
   "cell_type": "markdown",
   "id": "5d1cc42d",
   "metadata": {},
   "source": [
    "Concatenamos todos los ficheros en un dataframe"
   ]
  },
  {
   "cell_type": "code",
   "execution_count": 5,
   "id": "b6e413a3",
   "metadata": {},
   "outputs": [],
   "source": [
    "tramas_automatas = pd.concat((pd.read_csv(f, sep=\";\", encoding=\"latin-1\", header=None, skiprows=1) for f in tramas), ignore_index=False)"
   ]
  },
  {
   "cell_type": "markdown",
   "id": "d4b56e0b",
   "metadata": {},
   "source": [
    "1. Ponemos nombres a las columnas\n",
    "2. Eliminamos aquellas columnas que no nos interesan\n",
    "3. Ordenamos las columnas"
   ]
  },
  {
   "cell_type": "code",
   "execution_count": 6,
   "id": "56acba8d",
   "metadata": {},
   "outputs": [],
   "source": [
    "tramas_automatas.columns =  [\"Tipo\", \"Estacion\", \"Fecha\", \"Hora_inicio\", \"Mezcla\", \"Premezcla\", \"Batch\", \"Receta\", \"Kg_corcho\", \"Minutos_pesada\", \"Kg_DU\", \"Tiempo_vaciado\", \"Tiempo_inyeccion_agua\", \"Kg_Agua\", \"Tiempo_mezcla_agua\", \"Tiempo_inyeccion_cola\", \"Kg_cola\", \"Tiempo_mezcla_cola\", \"Tiempo_vaciado_mezcla\", \"Molde_inicial_ext1\", \"Molde_final_ext1\", \"Receta\", \"Molde_inicial_ext2\", \"Molde_final_ext2\", \"Tapones_buenos_g1\", \"Tapones_malos_g1\", \"Tiempo_extraccion_g1\", \"Tapones_buenos_g2\", \"Tapones_malos_g2\", \"Tiempo_extraccion_g2\", \"Tapones_buenos_descartados_g1\", \"Tapones_buenos_descartados_g2\", \"nada_1\", \"nada_2\"]\n",
    "tramas_automatas.drop(columns=[\"Tipo\", \"Hora_inicio\", \"Premezcla\", \"Batch\", \"Receta\", \"Minutos_pesada\", \"Tiempo_vaciado\", \"Tiempo_inyeccion_agua\", \"Kg_Agua\", \"Tiempo_mezcla_agua\", \"Tiempo_inyeccion_cola\", \"Tiempo_mezcla_cola\", \"Tiempo_vaciado_mezcla\", \"Molde_inicial_ext1\", \"Molde_final_ext1\", \"Receta\", \"Molde_inicial_ext2\", \"Molde_final_ext2\", \"Tiempo_extraccion_g1\", \"Tiempo_extraccion_g2\",\"nada_1\", \"nada_2\"], inplace=True)\t\n",
    "tramas_automatas=tramas_automatas.loc[:, [\"Fecha\", \"Estacion\", \"Mezcla\", \"Kg_corcho\", \"Kg_cola\", \"Kg_DU\", \"Tapones_buenos_g1\", \"Tapones_buenos_g2\", \"Tapones_malos_g1\", \"Tapones_malos_g2\", \"Tapones_buenos_descartados_g1\", \"Tapones_buenos_descartados_g2\"]]"
   ]
  },
  {
   "cell_type": "markdown",
   "id": "a7ff86a6",
   "metadata": {},
   "source": [
    "Reseteamos el índice de las filas y eliminamos la columna indice que permanece al crear el nuevo."
   ]
  },
  {
   "cell_type": "code",
   "execution_count": 7,
   "id": "e448c2c6",
   "metadata": {},
   "outputs": [],
   "source": [
    "tramas_automatas.reset_index(level=0, inplace=True)\n",
    "tramas_automatas.drop(columns=[\"index\"], inplace=True)"
   ]
  },
  {
   "cell_type": "markdown",
   "id": "2e6efc57",
   "metadata": {},
   "source": [
    "Creamos una seleccion booleana para filtrar las filas con errores en cantiddad de tapones, guardamos el porcentaje de líneas que vamos a reparar y las reparamos poniendo su valor a 0"
   ]
  },
  {
   "cell_type": "code",
   "execution_count": 8,
   "id": "e978f3a4",
   "metadata": {},
   "outputs": [],
   "source": [
    "tf=(tramas_automatas[\"Tapones_malos_g1\"]==65492)\n",
    "error_cantidad_malos= round((len(tf[tf==True])/len(tramas_automatas))*100,2)\n",
    "tramas_automatas.loc[tf, \"Tapones_malos_g1\"]=0"
   ]
  },
  {
   "cell_type": "markdown",
   "id": "88154cac",
   "metadata": {},
   "source": [
    "Pasamos de unidades a millares, agrupamos los campos de tapones, eliminamos los que no necesitamos y ponemos el nombre de las modeadoras correctamente"
   ]
  },
  {
   "cell_type": "code",
   "execution_count": 9,
   "id": "34233ee2",
   "metadata": {},
   "outputs": [],
   "source": [
    "tramas_automatas.loc[:, \"Kg_corcho\"]=tramas_automatas[\"Kg_corcho\"]/1000\n",
    "tramas_automatas.loc[:, \"Kg_cola\"]=tramas_automatas[\"Kg_cola\"]/1000\n",
    "tramas_automatas.loc[:, \"Kg_DU\"]=tramas_automatas[\"Kg_DU\"]/1000\n",
    "tramas_automatas.loc[:, \"Tapones_buenos\"]=(tramas_automatas[\"Tapones_buenos_g1\"]+tramas_automatas[\"Tapones_buenos_g2\"])/1000\n",
    "tramas_automatas.loc[:, \"Tapones_malos\"]=(tramas_automatas[\"Tapones_malos_g1\"]+tramas_automatas[\"Tapones_malos_g2\"])/1000\n",
    "tramas_automatas.loc[:, \"Tapones_buenos_descartados\"]=(tramas_automatas[\"Tapones_buenos_descartados_g1\"]+tramas_automatas[\"Tapones_buenos_descartados_g2\"])/1000\n",
    "tramas_automatas.drop(columns=[\"Tapones_buenos_g1\", \"Tapones_buenos_g2\", \"Tapones_malos_g1\", \"Tapones_malos_g2\", \"Tapones_buenos_descartados_g1\", \"Tapones_buenos_descartados_g2\"], inplace=True)\n",
    "tramas_automatas[\"Estacion\"].replace([10], \"MA10\", inplace=True)\n",
    "tramas_automatas[\"Estacion\"].replace([1], \"MA11\", inplace=True)\n",
    "tramas_automatas[\"Estacion\"].replace([12], \"MA12\", inplace=True)\n",
    "tramas_automatas[\"Estacion\"].replace([13], \"MA13\", inplace=True)\n",
    "tramas_automatas[\"Estacion\"].replace([14], \"MA14\", inplace=True)\n",
    "tramas_automatas[\"Estacion\"].replace([15], \"MA15\", inplace=True)"
   ]
  },
  {
   "cell_type": "markdown",
   "id": "3ae92b7e",
   "metadata": {},
   "source": [
    "Guardamos el total de registros y eliminamos los duplicados. "
   ]
  },
  {
   "cell_type": "code",
   "execution_count": 10,
   "id": "44ea5d7d",
   "metadata": {},
   "outputs": [],
   "source": [
    "total_registros=len(tramas_automatas)\n",
    "tramas_automatas.drop_duplicates([\"Fecha\", \"Estacion\", \"Mezcla\"], keep=\"first\", inplace=True)"
   ]
  },
  {
   "cell_type": "markdown",
   "id": "ac5a1fd5",
   "metadata": {},
   "source": [
    "1. Convertimos la fecha de cadena a tipo datetime\n",
    "2. Ordenamos los valores\n",
    "3. Borramos las filas de fechas que no pertenecen al periodo seleccionado"
   ]
  },
  {
   "cell_type": "code",
   "execution_count": 11,
   "id": "03ef6693",
   "metadata": {},
   "outputs": [],
   "source": [
    "tramas_automatas[\"Fecha\"]=pd.to_datetime(tramas_automatas[\"Fecha\"], format=\"%d/%m/%y\")\n",
    "tramas_automatas.sort_values(by=[\"Fecha\", \"Estacion\", \"Mezcla\"], inplace=True)\n",
    "tramas_automatas=tramas_automatas.loc[(tramas_automatas[\"Fecha\"]>=fecha_inicio) & (tramas_automatas[\"Fecha\"]<=fecha_fin)]"
   ]
  },
  {
   "cell_type": "markdown",
   "id": "b2dc007e",
   "metadata": {},
   "source": [
    "Guardamos el pordcentaje de filas eliminadas."
   ]
  },
  {
   "cell_type": "code",
   "execution_count": 12,
   "id": "0ccbb44a",
   "metadata": {},
   "outputs": [
    {
     "data": {
      "text/plain": [
       "28.16"
      ]
     },
     "execution_count": 12,
     "metadata": {},
     "output_type": "execute_result"
    }
   ],
   "source": [
    "error_mezclas_duplicadas=round((1-(len(tramas_automatas)/total_registros))*100,2)\n",
    "error_mezclas_duplicadas"
   ]
  },
  {
   "cell_type": "code",
   "execution_count": 13,
   "id": "f04b43f1",
   "metadata": {},
   "outputs": [],
   "source": [
    "#create csv file with commain float fields\n",
    "tramas_automatas.to_csv(\"tramas_generado.csv\", sep=\";\", encoding=\"latin-1\", index=False,decimal=\",\")"
   ]
  },
  {
   "cell_type": "markdown",
   "id": "318a19eb",
   "metadata": {},
   "source": [
    "## Extracción de las mezclas de la BBDDD diam Process"
   ]
  },
  {
   "cell_type": "code",
   "execution_count": 14,
   "id": "c8254d9a",
   "metadata": {},
   "outputs": [],
   "source": [
    "sentencia_sql = \"\"\"\n",
    "SELECT\n",
    "\tproduction_date,\n",
    "\tLEFT ( NAME, 4 ) moldeadora,\n",
    "\tmixture_number,\n",
    "\tcod,\n",
    "\tSUM ( grain_kilos ) AS grano,\n",
    "\tSUM ( agglomerate_kilos ) AS cola,\n",
    "\tSUM ( du_kilos ) AS du,\n",
    "\tSUM ( mv1_p ) / COUNT ( mixture_number ) AS peso \n",
    "FROM\n",
    "\tmixtures_mixture\n",
    "\tINNER JOIN machines_machine ON machines_machine.ID = mixtures_mixture.machine_id\n",
    "\tINNER JOIN specifications_specification ON specifications_specification.ID = mixtures_mixture.specification_id \n",
    "WHERE\n",
    "\tproduction_date >= '\"\"\" + fecha_inicio +\"\"\"' \n",
    "\tAND production_date <= '\"\"\" + fecha_fin +\"\"\"'\n",
    "\tAND (\n",
    "\t\tmachine_id = 1 \n",
    "\t\tOR machine_id = 2 \n",
    "\t\tOR machine_id = 3 \n",
    "\t\tOR machine_id = 4 \n",
    "\t\tOR machine_id = 5 \n",
    "\t\tOR machine_id = 6 \n",
    "\t\tOR machine_id = 7 \n",
    "\t\tOR machine_id = 8 \n",
    "\t\tOR machine_id = 9 \n",
    "\t\tOR machine_id = 10 \n",
    "\t\tOR machine_id = 11 \n",
    "\t\tOR machine_id = 12 \n",
    "\t) \n",
    "GROUP BY\n",
    "\tproduction_date,\n",
    "\tmixture_number,\n",
    "\tcod,\n",
    "\tmoldeadora \n",
    "ORDER BY\n",
    "\tproduction_date,\n",
    "\tmixture_number\"\"\""
   ]
  },
  {
   "cell_type": "markdown",
   "id": "983fade3",
   "metadata": {},
   "source": [
    "Ejecutamos la extracción de los datos."
   ]
  },
  {
   "cell_type": "code",
   "execution_count": 15,
   "id": "152238f0",
   "metadata": {},
   "outputs": [],
   "source": [
    "conn = psycopg2.connect(host=\"10.0.1.36\", database=\"diam\", user=\"diam\", password=\"diam\")\n",
    "cur = conn.cursor()\n",
    "cur.execute( sentencia_sql )\n"
   ]
  },
  {
   "cell_type": "markdown",
   "id": "d340d52d",
   "metadata": {},
   "source": [
    "Añadimos la información a un dataframe y configuramos las columnas"
   ]
  },
  {
   "cell_type": "code",
   "execution_count": 16,
   "id": "343be2fc",
   "metadata": {},
   "outputs": [],
   "source": [
    "mezclas_DP= pd.DataFrame(cur.fetchall())\n",
    "conn.close()\n",
    "mezclas_DP.columns =  [\"Fecha\", \"Moldeadora\", \"Mezcla\", \"Articulo\", \"kg_grano\", \"kg_cola\", \"Kg_du\", \"Peso\"]"
   ]
  },
  {
   "cell_type": "code",
   "execution_count": 17,
   "id": "80b6c885",
   "metadata": {},
   "outputs": [
    {
     "data": {
      "text/html": [
       "<div>\n",
       "<style scoped>\n",
       "    .dataframe tbody tr th:only-of-type {\n",
       "        vertical-align: middle;\n",
       "    }\n",
       "\n",
       "    .dataframe tbody tr th {\n",
       "        vertical-align: top;\n",
       "    }\n",
       "\n",
       "    .dataframe thead th {\n",
       "        text-align: right;\n",
       "    }\n",
       "</style>\n",
       "<table border=\"1\" class=\"dataframe\">\n",
       "  <thead>\n",
       "    <tr style=\"text-align: right;\">\n",
       "      <th></th>\n",
       "      <th>Fecha</th>\n",
       "      <th>Moldeadora</th>\n",
       "      <th>Mezcla</th>\n",
       "      <th>Articulo</th>\n",
       "      <th>kg_grano</th>\n",
       "      <th>kg_cola</th>\n",
       "      <th>Kg_du</th>\n",
       "      <th>Peso</th>\n",
       "    </tr>\n",
       "  </thead>\n",
       "  <tbody>\n",
       "    <tr>\n",
       "      <th>0</th>\n",
       "      <td>2022-09-01</td>\n",
       "      <td>MA13</td>\n",
       "      <td>1</td>\n",
       "      <td>BRUTCF038R027</td>\n",
       "      <td>65.0</td>\n",
       "      <td>18.2</td>\n",
       "      <td>3.90</td>\n",
       "      <td>7.270</td>\n",
       "    </tr>\n",
       "    <tr>\n",
       "      <th>1</th>\n",
       "      <td>2022-09-01</td>\n",
       "      <td>MA11</td>\n",
       "      <td>1</td>\n",
       "      <td>BRUTCF039R006</td>\n",
       "      <td>65.0</td>\n",
       "      <td>32.5</td>\n",
       "      <td>3.24</td>\n",
       "      <td>7.330</td>\n",
       "    </tr>\n",
       "    <tr>\n",
       "      <th>2</th>\n",
       "      <td>2022-09-01</td>\n",
       "      <td>MA12</td>\n",
       "      <td>1</td>\n",
       "      <td>BRUTCF041R028</td>\n",
       "      <td>65.0</td>\n",
       "      <td>20.8</td>\n",
       "      <td>4.22</td>\n",
       "      <td>8.070</td>\n",
       "    </tr>\n",
       "    <tr>\n",
       "      <th>3</th>\n",
       "      <td>2022-09-01</td>\n",
       "      <td>MA14</td>\n",
       "      <td>1</td>\n",
       "      <td>BRUTCF054R016</td>\n",
       "      <td>60.0</td>\n",
       "      <td>30.0</td>\n",
       "      <td>4.80</td>\n",
       "      <td>9.150</td>\n",
       "    </tr>\n",
       "    <tr>\n",
       "      <th>4</th>\n",
       "      <td>2022-09-01</td>\n",
       "      <td>MA13</td>\n",
       "      <td>2</td>\n",
       "      <td>BRUTCF038R027</td>\n",
       "      <td>65.0</td>\n",
       "      <td>18.2</td>\n",
       "      <td>3.90</td>\n",
       "      <td>7.300</td>\n",
       "    </tr>\n",
       "    <tr>\n",
       "      <th>...</th>\n",
       "      <td>...</td>\n",
       "      <td>...</td>\n",
       "      <td>...</td>\n",
       "      <td>...</td>\n",
       "      <td>...</td>\n",
       "      <td>...</td>\n",
       "      <td>...</td>\n",
       "      <td>...</td>\n",
       "    </tr>\n",
       "    <tr>\n",
       "      <th>8836</th>\n",
       "      <td>2022-09-26</td>\n",
       "      <td>MA12</td>\n",
       "      <td>9</td>\n",
       "      <td>BRUTCF041R028</td>\n",
       "      <td>65.0</td>\n",
       "      <td>20.8</td>\n",
       "      <td>4.22</td>\n",
       "      <td>8.125</td>\n",
       "    </tr>\n",
       "    <tr>\n",
       "      <th>8837</th>\n",
       "      <td>2022-09-26</td>\n",
       "      <td>MA11</td>\n",
       "      <td>9</td>\n",
       "      <td>BRUTCF109R006</td>\n",
       "      <td>50.0</td>\n",
       "      <td>25.0</td>\n",
       "      <td>2.76</td>\n",
       "      <td>7.225</td>\n",
       "    </tr>\n",
       "    <tr>\n",
       "      <th>8838</th>\n",
       "      <td>2022-09-26</td>\n",
       "      <td>MA13</td>\n",
       "      <td>9</td>\n",
       "      <td>BRUTCF109R027</td>\n",
       "      <td>50.0</td>\n",
       "      <td>25.0</td>\n",
       "      <td>2.76</td>\n",
       "      <td>7.430</td>\n",
       "    </tr>\n",
       "    <tr>\n",
       "      <th>8839</th>\n",
       "      <td>2022-09-26</td>\n",
       "      <td>MA12</td>\n",
       "      <td>10</td>\n",
       "      <td>BRUTCF041R028</td>\n",
       "      <td>65.0</td>\n",
       "      <td>20.8</td>\n",
       "      <td>4.22</td>\n",
       "      <td>8.100</td>\n",
       "    </tr>\n",
       "    <tr>\n",
       "      <th>8840</th>\n",
       "      <td>2022-09-26</td>\n",
       "      <td>MA11</td>\n",
       "      <td>10</td>\n",
       "      <td>BRUTCF109R006</td>\n",
       "      <td>50.0</td>\n",
       "      <td>25.0</td>\n",
       "      <td>2.76</td>\n",
       "      <td>7.215</td>\n",
       "    </tr>\n",
       "  </tbody>\n",
       "</table>\n",
       "<p>8841 rows × 8 columns</p>\n",
       "</div>"
      ],
      "text/plain": [
       "           Fecha Moldeadora  Mezcla       Articulo  kg_grano  kg_cola  Kg_du  \\\n",
       "0     2022-09-01       MA13       1  BRUTCF038R027      65.0     18.2   3.90   \n",
       "1     2022-09-01       MA11       1  BRUTCF039R006      65.0     32.5   3.24   \n",
       "2     2022-09-01       MA12       1  BRUTCF041R028      65.0     20.8   4.22   \n",
       "3     2022-09-01       MA14       1  BRUTCF054R016      60.0     30.0   4.80   \n",
       "4     2022-09-01       MA13       2  BRUTCF038R027      65.0     18.2   3.90   \n",
       "...          ...        ...     ...            ...       ...      ...    ...   \n",
       "8836  2022-09-26       MA12       9  BRUTCF041R028      65.0     20.8   4.22   \n",
       "8837  2022-09-26       MA11       9  BRUTCF109R006      50.0     25.0   2.76   \n",
       "8838  2022-09-26       MA13       9  BRUTCF109R027      50.0     25.0   2.76   \n",
       "8839  2022-09-26       MA12      10  BRUTCF041R028      65.0     20.8   4.22   \n",
       "8840  2022-09-26       MA11      10  BRUTCF109R006      50.0     25.0   2.76   \n",
       "\n",
       "       Peso  \n",
       "0     7.270  \n",
       "1     7.330  \n",
       "2     8.070  \n",
       "3     9.150  \n",
       "4     7.300  \n",
       "...     ...  \n",
       "8836  8.125  \n",
       "8837  7.225  \n",
       "8838  7.430  \n",
       "8839  8.100  \n",
       "8840  7.215  \n",
       "\n",
       "[8841 rows x 8 columns]"
      ]
     },
     "execution_count": 17,
     "metadata": {},
     "output_type": "execute_result"
    }
   ],
   "source": [
    "mezclas_DP"
   ]
  }
 ],
 "metadata": {
  "kernelspec": {
   "display_name": "Python 3.10.2 64-bit",
   "language": "python",
   "name": "python3"
  },
  "language_info": {
   "codemirror_mode": {
    "name": "ipython",
    "version": 3
   },
   "file_extension": ".py",
   "mimetype": "text/x-python",
   "name": "python",
   "nbconvert_exporter": "python",
   "pygments_lexer": "ipython3",
   "version": "3.10.2"
  },
  "vscode": {
   "interpreter": {
    "hash": "63b9566f2ee17808342e65f1c72bcf10ae9ec18cf9a881870640c13c12a628c8"
   }
  }
 },
 "nbformat": 4,
 "nbformat_minor": 5
}
