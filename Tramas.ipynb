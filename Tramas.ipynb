{
 "cells": [
  {
   "cell_type": "code",
   "execution_count": 31,
   "id": "5973f921",
   "metadata": {},
   "outputs": [],
   "source": [
    "import pandas as pd\n",
    "import os"
   ]
  },
  {
   "cell_type": "code",
   "execution_count": 32,
   "id": "2568e88c",
   "metadata": {},
   "outputs": [],
   "source": [
    "fecha_inicio=\"2022/09/01\"\n",
    "fecha_fin=\"2022/09/30\"\n",
    "\n",
    "mes_referencia=fecha_inicio[5:7]\n",
    "ano_referencia=fecha_inicio[2:4]\n"
   ]
  },
  {
   "cell_type": "code",
   "execution_count": 33,
   "id": "5c4d2d4e",
   "metadata": {},
   "outputs": [],
   "source": [
    "def suma_mes(mes):\n",
    "    mes_cadena=str(int(mes)+1)\n",
    "    if len(mes_cadena)==1:\n",
    "        mes_cadena=\"0\"+ mes_cadena\n",
    "    return mes_cadena"
   ]
  },
  {
   "cell_type": "code",
   "execution_count": 34,
   "id": "cd292808",
   "metadata": {},
   "outputs": [],
   "source": [
    "tramas=[]\n",
    "for (root,dirs,files) in os.walk('TRAMAS'):\n",
    "    for name in files:\n",
    "        if name[0:1]==\"M\":\n",
    "            dia=name[12:14]\n",
    "            mes=name[15:17]\n",
    "            ano=name[20:22]\n",
    "            if (mes_referencia==mes and ano_referencia == ano) or (dia==\"01\" and suma_mes(mes_referencia)==mes):\n",
    "                tramas.append(root + \"\\\\\"+ os.path.join(name))"
   ]
  },
  {
   "cell_type": "code",
   "execution_count": 35,
   "id": "56acba8d",
   "metadata": {},
   "outputs": [],
   "source": [
    "# pandas concat csv files\n",
    "df = pd.concat((pd.read_csv(f, sep=\";\", encoding=\"latin-1\", header=None, skiprows=1) for f in tramas), ignore_index=False)\n",
    "df.columns =  [\"Tipo\", \"Estacion\", \"Fecha\", \"Hora_inicio\", \"Mezcla\", \"Premezcla\", \"Batch\", \"Receta\", \"Kg_corcho\", \"Minutos_pesada\", \"Kg_DU\", \"Tiempo_vaciado\", \"Tiempo_inyeccion_agua\", \"Kg_Agua\", \"Tiempo_mezcla_agua\", \"Tiempo_inyeccion_cola\", \"Kg_cola\", \"Tiempo_mezcla_cola\", \"Tiempo_vaciado_mezcla\", \"Molde_inicial_ext1\", \"Molde_final_ext1\", \"Receta\", \"Molde_inicial_ext2\", \"Molde_final_ext2\", \"Tapones_buenos_g1\", \"Tapones_malos_g1\", \"Tiempo_extraccion_g1\", \"Tapones_buenos_g2\", \"Tapones_malos_g2\", \"Tiempo_extraccion_g2\", \"Tapones_buenos_descartados_g1\", \"Tapones_buenos_descartados_g2\", \"nada_1\", \"nada_2\"]"
   ]
  },
  {
   "cell_type": "code",
   "execution_count": 36,
   "id": "97aa6864",
   "metadata": {},
   "outputs": [],
   "source": [
    "df.drop(columns=[\"Tipo\", \"Hora_inicio\", \"Premezcla\", \"Batch\", \"Receta\", \"Minutos_pesada\", \"Tiempo_vaciado\", \"Tiempo_inyeccion_agua\", \"Kg_Agua\", \"Tiempo_mezcla_agua\", \"Tiempo_inyeccion_cola\", \"Tiempo_mezcla_cola\", \"Tiempo_vaciado_mezcla\", \"Molde_inicial_ext1\", \"Molde_final_ext1\", \"Receta\", \"Molde_inicial_ext2\", \"Molde_final_ext2\", \"Tiempo_extraccion_g1\", \"Tiempo_extraccion_g2\",\"nada_1\", \"nada_2\"], inplace=True)\t"
   ]
  },
  {
   "cell_type": "code",
   "execution_count": 37,
   "id": "a67a0060",
   "metadata": {},
   "outputs": [],
   "source": [
    "df=df.loc[:, [\"Fecha\", \"Estacion\", \"Mezcla\", \"Kg_corcho\", \"Kg_cola\", \"Kg_DU\", \"Tapones_buenos_g1\", \"Tapones_buenos_g2\", \"Tapones_malos_g1\", \"Tapones_malos_g2\", \"Tapones_buenos_descartados_g1\", \"Tapones_buenos_descartados_g2\"]]"
   ]
  },
  {
   "cell_type": "code",
   "execution_count": 38,
   "id": "e448c2c6",
   "metadata": {},
   "outputs": [],
   "source": [
    "df.reset_index(level=0, inplace=True)\n",
    "df.drop(columns=[\"index\"], inplace=True)"
   ]
  },
  {
   "cell_type": "code",
   "execution_count": 39,
   "id": "e978f3a4",
   "metadata": {},
   "outputs": [
    {
     "data": {
      "text/plain": [
       "7.71"
      ]
     },
     "execution_count": 39,
     "metadata": {},
     "output_type": "execute_result"
    }
   ],
   "source": [
    "tf=(df[\"Tapones_malos_g1\"]==65492)\n",
    "error_cantidad_malos= round((len(tf[tf==True])/len(df))*100,2)\n",
    "error_cantidad_malos"
   ]
  },
  {
   "cell_type": "code",
   "execution_count": 40,
   "id": "1c11aab6",
   "metadata": {},
   "outputs": [],
   "source": [
    "df.loc[tf, \"Tapones_malos_g1\"]=0\n",
    "df2 = df.copy() "
   ]
  },
  {
   "cell_type": "code",
   "execution_count": 41,
   "id": "34233ee2",
   "metadata": {},
   "outputs": [],
   "source": [
    "df2.loc[:, \"Kg_corcho\"]=df2[\"Kg_corcho\"]/1000\n",
    "df2.loc[:, \"Kg_cola\"]=df2[\"Kg_cola\"]/1000\n",
    "df2.loc[:, \"Kg_DU\"]=df2[\"Kg_DU\"]/1000\n",
    "df2.loc[:, \"Tapones_buenos\"]=(df2[\"Tapones_buenos_g1\"]+df2[\"Tapones_buenos_g2\"])/1000\n",
    "df2.loc[:, \"Tapones_malos\"]=(df2[\"Tapones_malos_g1\"]+df2[\"Tapones_malos_g2\"])/1000\n",
    "df2.loc[:, \"Tapones_buenos_descartados\"]=(df2[\"Tapones_buenos_descartados_g1\"]+df2[\"Tapones_buenos_descartados_g2\"])/1000\n",
    "df2.drop(columns=[\"Tapones_buenos_g1\", \"Tapones_buenos_g2\", \"Tapones_malos_g1\", \"Tapones_malos_g2\", \"Tapones_buenos_descartados_g1\", \"Tapones_buenos_descartados_g2\"], inplace=True)\n",
    "df2[\"Estacion\"].replace([10], \"MA10\", inplace=True)\n",
    "df2[\"Estacion\"].replace([1], \"MA11\", inplace=True)\n",
    "df2[\"Estacion\"].replace([12], \"MA12\", inplace=True)\n",
    "df2[\"Estacion\"].replace([13], \"MA13\", inplace=True)\n",
    "df2[\"Estacion\"].replace([14], \"MA14\", inplace=True)\n",
    "df2[\"Estacion\"].replace([15], \"MA15\", inplace=True)"
   ]
  },
  {
   "cell_type": "code",
   "execution_count": 42,
   "id": "44ea5d7d",
   "metadata": {},
   "outputs": [],
   "source": [
    "df2. drop_duplicates([\"Fecha\", \"Estacion\", \"Mezcla\"], keep=\"first\", inplace=True)"
   ]
  },
  {
   "cell_type": "code",
   "execution_count": 43,
   "id": "03ef6693",
   "metadata": {},
   "outputs": [],
   "source": [
    "df2[\"Fecha\"]=pd.to_datetime(df2[\"Fecha\"], format=\"%d/%m/%y\")\n",
    "df2.sort_values(by=[\"Fecha\", \"Estacion\", \"Mezcla\"], inplace=True)\n",
    "\n",
    "df2=df2.loc[(df2[\"Fecha\"]>=fecha_inicio) & (df2[\"Fecha\"]<=fecha_fin)]"
   ]
  },
  {
   "cell_type": "code",
   "execution_count": 44,
   "id": "0ccbb44a",
   "metadata": {},
   "outputs": [
    {
     "data": {
      "text/plain": [
       "28.16"
      ]
     },
     "execution_count": 44,
     "metadata": {},
     "output_type": "execute_result"
    }
   ],
   "source": [
    "error_mezclas_duplicadas=round((1-(len(df2)/len(df)))*100,2)\n",
    "error_mezclas_duplicadas"
   ]
  },
  {
   "cell_type": "code",
   "execution_count": 45,
   "id": "f04b43f1",
   "metadata": {},
   "outputs": [],
   "source": [
    "#create csv file with commain float fields\n",
    "df2.to_csv(\"tramas_generado.csv\", sep=\";\", encoding=\"latin-1\", index=False,decimal=\",\")"
   ]
  }
 ],
 "metadata": {
  "kernelspec": {
   "display_name": "Python 3.10.2 64-bit",
   "language": "python",
   "name": "python3"
  },
  "language_info": {
   "codemirror_mode": {
    "name": "ipython",
    "version": 3
   },
   "file_extension": ".py",
   "mimetype": "text/x-python",
   "name": "python",
   "nbconvert_exporter": "python",
   "pygments_lexer": "ipython3",
   "version": "3.10.2"
  },
  "vscode": {
   "interpreter": {
    "hash": "63b9566f2ee17808342e65f1c72bcf10ae9ec18cf9a881870640c13c12a628c8"
   }
  }
 },
 "nbformat": 4,
 "nbformat_minor": 5
}
