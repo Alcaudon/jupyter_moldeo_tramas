{
 "cells": [
  {
   "cell_type": "code",
   "execution_count": 195,
   "id": "5973f921",
   "metadata": {},
   "outputs": [],
   "source": [
    "import pandas as pd\n",
    "import os"
   ]
  },
  {
   "cell_type": "code",
   "execution_count": 196,
   "id": "2568e88c",
   "metadata": {},
   "outputs": [],
   "source": [
    "mes_referencia=\"07\"\n",
    "ano_referencia=\"22\""
   ]
  },
  {
   "cell_type": "code",
   "execution_count": 197,
   "id": "5c4d2d4e",
   "metadata": {},
   "outputs": [],
   "source": [
    "def suma_mes(mes):\n",
    "    mes_cadena=str(int(mes)+1)\n",
    "    if len(mes_cadena)==1:\n",
    "        mes_cadena=\"0\"+ mes_cadena\n",
    "    return mes_cadena"
   ]
  },
  {
   "cell_type": "code",
   "execution_count": 198,
   "id": "cd292808",
   "metadata": {},
   "outputs": [],
   "source": [
    "tramas=[]\n",
    "for (root,dirs,files) in os.walk('TRAMAS'):\n",
    "    for name in files:\n",
    "        if name[0:1]==\"M\":\n",
    "            dia=name[12:14]\n",
    "            mes=name[15:17]\n",
    "            ano=name[20:22]\n",
    "            if (mes_referencia==mes and ano_referencia == ano) or (dia==\"01\" and suma_mes(mes_referencia)==mes):\n",
    "                tramas.append(root + \"\\\\\"+ os.path.join(name))"
   ]
  },
  {
   "cell_type": "code",
   "execution_count": 199,
   "id": "56acba8d",
   "metadata": {},
   "outputs": [],
   "source": [
    "# pandas concat csv files\n",
    "df = pd.concat((pd.read_csv(f, sep=\";\", encoding=\"latin-1\", header=None, skiprows=1) for f in tramas), ignore_index=False)\n",
    "df.columns =  [\"Tipo\", \"Estacion\", \"Fecha\", \"Hora_inicio\", \"Mezcla\", \"Premezcla\", \"Batch\", \"Receta\", \"Kg_corcho\", \"Minutos_pesada\", \"Kg_DU\", \"Tiempo_vaciado\", \"Tiempo_inyeccion_agua\", \"Kg_Agua\", \"Tiempo_mezcla_agua\", \"Tiempo_inyeccion_cola\", \"Kg_cola\", \"Tiempo_mezcla_cola\", \"Tiempo_vaciado_mezcla\", \"Molde_inicial_ext1\", \"Molde_final_ext1\", \"Receta\", \"Molde_inicial_ext2\", \"Molde_final_ext2\", \"Tapones_buenos_g1\", \"Tapones_malos_g1\", \"Tiempo_extraccion_g1\", \"Tapones_buenos_g2\", \"Tapones_malos_g2\", \"Tiempo_extraccion_g2\", \"Tapones_buenos_descartados_g1\", \"Tapones_buenos_descartados_g2\", \"nada_1\", \"nada_2\"]"
   ]
  },
  {
   "cell_type": "code",
   "execution_count": 200,
   "id": "97aa6864",
   "metadata": {},
   "outputs": [],
   "source": [
    "df.drop(columns=[\"Tipo\", \"Hora_inicio\", \"Premezcla\", \"Batch\", \"Receta\", \"Minutos_pesada\", \"Tiempo_vaciado\", \"Tiempo_inyeccion_agua\", \"Kg_Agua\", \"Tiempo_mezcla_agua\", \"Tiempo_inyeccion_cola\", \"Tiempo_mezcla_cola\", \"Tiempo_vaciado_mezcla\", \"Molde_inicial_ext1\", \"Molde_final_ext1\", \"Receta\", \"Molde_inicial_ext2\", \"Molde_final_ext2\", \"Tiempo_extraccion_g1\", \"Tiempo_extraccion_g2\",\"nada_1\", \"nada_2\"], inplace=True)\t"
   ]
  },
  {
   "cell_type": "code",
   "execution_count": 201,
   "id": "a67a0060",
   "metadata": {},
   "outputs": [],
   "source": [
    "df=df.loc[:, [\"Fecha\", \"Estacion\", \"Mezcla\", \"Kg_corcho\", \"Kg_cola\", \"Kg_DU\", \"Tapones_buenos_g1\", \"Tapones_buenos_g2\", \"Tapones_malos_g1\", \"Tapones_malos_g2\", \"Tapones_buenos_descartados_g1\", \"Tapones_buenos_descartados_g2\"]].sort_values(by=[\"Fecha\", \"Estacion\", \"Mezcla\"])"
   ]
  },
  {
   "cell_type": "code",
   "execution_count": 202,
   "id": "e448c2c6",
   "metadata": {},
   "outputs": [],
   "source": [
    "df.reset_index(level=0, inplace=True)\n",
    "df.drop(columns=[\"index\"], inplace=True)"
   ]
  },
  {
   "cell_type": "code",
   "execution_count": 203,
   "id": "e978f3a4",
   "metadata": {},
   "outputs": [],
   "source": [
    "tf=(df[\"Tapones_malos_g1\"]==65492)\n",
    "error_cantidad_malos= round((len(tf[tf==True])/len(df))*100,2)"
   ]
  },
  {
   "cell_type": "code",
   "execution_count": 204,
   "id": "1c11aab6",
   "metadata": {},
   "outputs": [],
   "source": [
    "df.loc[tf, \"Tapones_malos_g1\"]=0\n",
    "df2 = df.copy() "
   ]
  },
  {
   "cell_type": "code",
   "execution_count": 205,
   "id": "34233ee2",
   "metadata": {},
   "outputs": [],
   "source": [
    "df2.loc[:, \"Kg_corcho\"]=df2[\"Kg_corcho\"]/1000\n",
    "df2.loc[:, \"Kg_cola\"]=df2[\"Kg_cola\"]/1000\n",
    "df2.loc[:, \"Kg_DU\"]=df2[\"Kg_DU\"]/1000\n",
    "df2.loc[:, \"Tapones_buenos\"]=(df2[\"Tapones_buenos_g1\"]+df2[\"Tapones_buenos_g2\"])/1000\n",
    "df2.loc[:, \"Tapones_malos\"]=(df2[\"Tapones_malos_g1\"]+df2[\"Tapones_malos_g2\"])/1000\n",
    "df2.loc[:, \"Tapones_buenos_descartados\"]=(df2[\"Tapones_buenos_descartados_g1\"]+df2[\"Tapones_buenos_descartados_g2\"])/1000\n",
    "df2.drop(columns=[\"Tapones_buenos_g1\", \"Tapones_buenos_g2\", \"Tapones_malos_g1\", \"Tapones_malos_g2\", \"Tapones_buenos_descartados_g1\", \"Tapones_buenos_descartados_g2\"], inplace=True)\n",
    "df2[\"Estacion\"].replace([10], \"MA10\", inplace=True)\n",
    "df2[\"Estacion\"].replace([1], \"MA11\", inplace=True)\n",
    "df2[\"Estacion\"].replace([12], \"MA12\", inplace=True)\n",
    "df2[\"Estacion\"].replace([13], \"MA13\", inplace=True)\n",
    "df2[\"Estacion\"].replace([14], \"MA14\", inplace=True)\n",
    "df2[\"Estacion\"].replace([15], \"MA15\", inplace=True)"
   ]
  },
  {
   "cell_type": "code",
   "execution_count": 206,
   "id": "44ea5d7d",
   "metadata": {},
   "outputs": [
    {
     "data": {
      "text/html": [
       "<div>\n",
       "<style scoped>\n",
       "    .dataframe tbody tr th:only-of-type {\n",
       "        vertical-align: middle;\n",
       "    }\n",
       "\n",
       "    .dataframe tbody tr th {\n",
       "        vertical-align: top;\n",
       "    }\n",
       "\n",
       "    .dataframe thead th {\n",
       "        text-align: right;\n",
       "    }\n",
       "</style>\n",
       "<table border=\"1\" class=\"dataframe\">\n",
       "  <thead>\n",
       "    <tr style=\"text-align: right;\">\n",
       "      <th></th>\n",
       "      <th>Fecha</th>\n",
       "      <th>Estacion</th>\n",
       "      <th>Mezcla</th>\n",
       "      <th>Kg_corcho</th>\n",
       "      <th>Kg_cola</th>\n",
       "      <th>Kg_DU</th>\n",
       "      <th>Tapones_buenos</th>\n",
       "      <th>Tapones_malos</th>\n",
       "      <th>Tapones_buenos_descartados</th>\n",
       "    </tr>\n",
       "  </thead>\n",
       "  <tbody>\n",
       "    <tr>\n",
       "      <th>0</th>\n",
       "      <td>1/7/22</td>\n",
       "      <td>MA11</td>\n",
       "      <td>1</td>\n",
       "      <td>70.815</td>\n",
       "      <td>22.690</td>\n",
       "      <td>4.604</td>\n",
       "      <td>12.276</td>\n",
       "      <td>0.044</td>\n",
       "      <td>0.000</td>\n",
       "    </tr>\n",
       "    <tr>\n",
       "      <th>2</th>\n",
       "      <td>1/7/22</td>\n",
       "      <td>MA11</td>\n",
       "      <td>2</td>\n",
       "      <td>70.388</td>\n",
       "      <td>22.527</td>\n",
       "      <td>4.576</td>\n",
       "      <td>12.012</td>\n",
       "      <td>0.000</td>\n",
       "      <td>0.042</td>\n",
       "    </tr>\n",
       "    <tr>\n",
       "      <th>3</th>\n",
       "      <td>1/7/22</td>\n",
       "      <td>MA11</td>\n",
       "      <td>3</td>\n",
       "      <td>71.092</td>\n",
       "      <td>22.771</td>\n",
       "      <td>4.764</td>\n",
       "      <td>11.836</td>\n",
       "      <td>0.000</td>\n",
       "      <td>0.000</td>\n",
       "    </tr>\n",
       "    <tr>\n",
       "      <th>5</th>\n",
       "      <td>1/7/22</td>\n",
       "      <td>MA11</td>\n",
       "      <td>4</td>\n",
       "      <td>70.547</td>\n",
       "      <td>22.608</td>\n",
       "      <td>4.586</td>\n",
       "      <td>12.232</td>\n",
       "      <td>0.000</td>\n",
       "      <td>0.000</td>\n",
       "    </tr>\n",
       "    <tr>\n",
       "      <th>6</th>\n",
       "      <td>1/7/22</td>\n",
       "      <td>MA11</td>\n",
       "      <td>5</td>\n",
       "      <td>70.956</td>\n",
       "      <td>22.730</td>\n",
       "      <td>4.542</td>\n",
       "      <td>11.704</td>\n",
       "      <td>0.000</td>\n",
       "      <td>0.000</td>\n",
       "    </tr>\n",
       "    <tr>\n",
       "      <th>...</th>\n",
       "      <td>...</td>\n",
       "      <td>...</td>\n",
       "      <td>...</td>\n",
       "      <td>...</td>\n",
       "      <td>...</td>\n",
       "      <td>...</td>\n",
       "      <td>...</td>\n",
       "      <td>...</td>\n",
       "      <td>...</td>\n",
       "    </tr>\n",
       "    <tr>\n",
       "      <th>15486</th>\n",
       "      <td>9/7/22</td>\n",
       "      <td>MA15</td>\n",
       "      <td>52</td>\n",
       "      <td>69.008</td>\n",
       "      <td>19.322</td>\n",
       "      <td>4.141</td>\n",
       "      <td>10.736</td>\n",
       "      <td>0.000</td>\n",
       "      <td>0.030</td>\n",
       "    </tr>\n",
       "    <tr>\n",
       "      <th>15487</th>\n",
       "      <td>9/7/22</td>\n",
       "      <td>MA15</td>\n",
       "      <td>53</td>\n",
       "      <td>68.664</td>\n",
       "      <td>19.231</td>\n",
       "      <td>4.326</td>\n",
       "      <td>13.992</td>\n",
       "      <td>0.000</td>\n",
       "      <td>0.053</td>\n",
       "    </tr>\n",
       "    <tr>\n",
       "      <th>15489</th>\n",
       "      <td>9/7/22</td>\n",
       "      <td>MA15</td>\n",
       "      <td>54</td>\n",
       "      <td>69.023</td>\n",
       "      <td>19.332</td>\n",
       "      <td>4.142</td>\n",
       "      <td>11.748</td>\n",
       "      <td>0.088</td>\n",
       "      <td>0.020</td>\n",
       "    </tr>\n",
       "    <tr>\n",
       "      <th>15492</th>\n",
       "      <td>9/7/22</td>\n",
       "      <td>MA15</td>\n",
       "      <td>55</td>\n",
       "      <td>68.783</td>\n",
       "      <td>19.261</td>\n",
       "      <td>4.265</td>\n",
       "      <td>11.616</td>\n",
       "      <td>0.000</td>\n",
       "      <td>0.039</td>\n",
       "    </tr>\n",
       "    <tr>\n",
       "      <th>15493</th>\n",
       "      <td>9/7/22</td>\n",
       "      <td>MA15</td>\n",
       "      <td>56</td>\n",
       "      <td>68.854</td>\n",
       "      <td>19.281</td>\n",
       "      <td>4.269</td>\n",
       "      <td>13.772</td>\n",
       "      <td>0.000</td>\n",
       "      <td>0.001</td>\n",
       "    </tr>\n",
       "  </tbody>\n",
       "</table>\n",
       "<p>10733 rows × 9 columns</p>\n",
       "</div>"
      ],
      "text/plain": [
       "        Fecha Estacion  Mezcla  Kg_corcho  Kg_cola  Kg_DU  Tapones_buenos  \\\n",
       "0      1/7/22     MA11       1     70.815   22.690  4.604          12.276   \n",
       "2      1/7/22     MA11       2     70.388   22.527  4.576          12.012   \n",
       "3      1/7/22     MA11       3     71.092   22.771  4.764          11.836   \n",
       "5      1/7/22     MA11       4     70.547   22.608  4.586          12.232   \n",
       "6      1/7/22     MA11       5     70.956   22.730  4.542          11.704   \n",
       "...       ...      ...     ...        ...      ...    ...             ...   \n",
       "15486  9/7/22     MA15      52     69.008   19.322  4.141          10.736   \n",
       "15487  9/7/22     MA15      53     68.664   19.231  4.326          13.992   \n",
       "15489  9/7/22     MA15      54     69.023   19.332  4.142          11.748   \n",
       "15492  9/7/22     MA15      55     68.783   19.261  4.265          11.616   \n",
       "15493  9/7/22     MA15      56     68.854   19.281  4.269          13.772   \n",
       "\n",
       "       Tapones_malos  Tapones_buenos_descartados  \n",
       "0              0.044                       0.000  \n",
       "2              0.000                       0.042  \n",
       "3              0.000                       0.000  \n",
       "5              0.000                       0.000  \n",
       "6              0.000                       0.000  \n",
       "...              ...                         ...  \n",
       "15486          0.000                       0.030  \n",
       "15487          0.000                       0.053  \n",
       "15489          0.088                       0.020  \n",
       "15492          0.000                       0.039  \n",
       "15493          0.000                       0.001  \n",
       "\n",
       "[10733 rows x 9 columns]"
      ]
     },
     "execution_count": 206,
     "metadata": {},
     "output_type": "execute_result"
    }
   ],
   "source": [
    "df2. drop_duplicates([\"Fecha\", \"Estacion\", \"Mezcla\"], keep=\"first\", inplace=True)\n",
    "df2"
   ]
  },
  {
   "cell_type": "code",
   "execution_count": 207,
   "id": "f04b43f1",
   "metadata": {},
   "outputs": [],
   "source": [
    "#create csv file with commain float fields\n",
    "df2.to_csv(\"tramas.csv\", sep=\";\", encoding=\"latin-1\", index=False,decimal=\",\")"
   ]
  }
 ],
 "metadata": {
  "kernelspec": {
   "display_name": "Python 3.10.2 64-bit",
   "language": "python",
   "name": "python3"
  },
  "language_info": {
   "codemirror_mode": {
    "name": "ipython",
    "version": 3
   },
   "file_extension": ".py",
   "mimetype": "text/x-python",
   "name": "python",
   "nbconvert_exporter": "python",
   "pygments_lexer": "ipython3",
   "version": "3.10.2"
  },
  "vscode": {
   "interpreter": {
    "hash": "63b9566f2ee17808342e65f1c72bcf10ae9ec18cf9a881870640c13c12a628c8"
   }
  }
 },
 "nbformat": 4,
 "nbformat_minor": 5
}
