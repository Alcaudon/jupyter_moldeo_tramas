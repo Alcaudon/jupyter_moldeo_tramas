{
 "cells": [
  {
   "cell_type": "markdown",
   "id": "f44d6bee",
   "metadata": {},
   "source": [
    "# Gestión de tramas de moldeo\n",
    "## Reconstrucción de las tramas de moldeo con las mezclas de Diam Process como soporte"
   ]
  },
  {
   "cell_type": "code",
   "execution_count": 20,
   "id": "5973f921",
   "metadata": {},
   "outputs": [],
   "source": [
    "import psycopg2\n",
    "import pandas as pd\n",
    "import os"
   ]
  },
  {
   "cell_type": "markdown",
   "id": "8ac58a4b",
   "metadata": {},
   "source": [
    "<p>Creamos las variables que vamos a utilizar para seleccionar los valores entre fechas</p>\n",
    "<p>El cóidigo funciona con una selección mínima del mes.</p>"
   ]
  },
  {
   "cell_type": "code",
   "execution_count": 21,
   "id": "2568e88c",
   "metadata": {},
   "outputs": [],
   "source": [
    "fecha_inicio=\"2022/09/01\"\n",
    "fecha_fin=\"2022/09/30\"\n",
    "\n",
    "mes_referencia=fecha_inicio[5:7]\n",
    "ano_referencia=fecha_inicio[2:4]\n"
   ]
  },
  {
   "cell_type": "markdown",
   "id": "25d08cad",
   "metadata": {},
   "source": [
    "Función que permite sumar +1 a la cadena del mes y permite que siga siendo una cadena de dos caracteres Ejem. 01 -> 02"
   ]
  },
  {
   "cell_type": "code",
   "execution_count": 22,
   "id": "5c4d2d4e",
   "metadata": {},
   "outputs": [],
   "source": [
    "def suma_mes(mes):\n",
    "    mes_cadena=str(int(mes)+1)\n",
    "    if len(mes_cadena)==1:\n",
    "        mes_cadena=\"0\"+ mes_cadena\n",
    "    return mes_cadena"
   ]
  },
  {
   "cell_type": "markdown",
   "id": "220a5da0",
   "metadata": {},
   "source": [
    "Recuperamos todos los ficheros del periodo seleccionado +1 día ya que contiene mezclas del mes que estamso estudiando"
   ]
  },
  {
   "cell_type": "code",
   "execution_count": 23,
   "id": "cd292808",
   "metadata": {},
   "outputs": [],
   "source": [
    "tramas=[]\n",
    "for (root,dirs,files) in os.walk('TRAMAS'):\n",
    "    for name in files:\n",
    "        if name[0:1]==\"M\":\n",
    "            dia=name[12:14]\n",
    "            mes=name[15:17]\n",
    "            ano=name[20:22]\n",
    "            if (mes_referencia==mes and ano_referencia == ano) or (dia==\"01\" and suma_mes(mes_referencia)==mes):\n",
    "                tramas.append(root + \"\\\\\"+ os.path.join(name))"
   ]
  },
  {
   "cell_type": "markdown",
   "id": "5d1cc42d",
   "metadata": {},
   "source": [
    "Concatenamos todos los ficheros en un dataframe"
   ]
  },
  {
   "cell_type": "code",
   "execution_count": 24,
   "id": "b6e413a3",
   "metadata": {},
   "outputs": [],
   "source": [
    "tramas_automatas = pd.concat((pd.read_csv(f, sep=\";\", encoding=\"latin-1\", header=None, skiprows=1) for f in tramas), ignore_index=False)"
   ]
  },
  {
   "cell_type": "markdown",
   "id": "d4b56e0b",
   "metadata": {},
   "source": [
    "1. Ponemos nombres a las columnas\n",
    "2. Eliminamos aquellas columnas que no nos interesan\n",
    "3. Ordenamos las columnas"
   ]
  },
  {
   "cell_type": "code",
   "execution_count": 25,
   "id": "56acba8d",
   "metadata": {},
   "outputs": [],
   "source": [
    "tramas_automatas.columns =  [\"Tipo\", \"Estacion\", \"Fecha\", \"Hora_inicio\", \"Mezcla\", \"Premezcla\", \"Batch\", \"Receta\", \"Kg_corcho\", \"Minutos_pesada\", \"Kg_DU\", \"Tiempo_vaciado\", \"Tiempo_inyeccion_agua\", \"Kg_Agua\", \"Tiempo_mezcla_agua\", \"Tiempo_inyeccion_cola\", \"Kg_cola\", \"Tiempo_mezcla_cola\", \"Tiempo_vaciado_mezcla\", \"Molde_inicial_ext1\", \"Molde_final_ext1\", \"Receta\", \"Molde_inicial_ext2\", \"Molde_final_ext2\", \"Tapones_buenos_g1\", \"Tapones_malos_g1\", \"Tiempo_extraccion_g1\", \"Tapones_buenos_g2\", \"Tapones_malos_g2\", \"Tiempo_extraccion_g2\", \"Tapones_buenos_descartados_g1\", \"Tapones_buenos_descartados_g2\", \"nada_1\", \"nada_2\"]\n",
    "tramas_automatas.drop(columns=[\"Tipo\", \"Hora_inicio\", \"Premezcla\", \"Batch\", \"Receta\", \"Minutos_pesada\", \"Tiempo_vaciado\", \"Tiempo_inyeccion_agua\", \"Kg_Agua\", \"Tiempo_mezcla_agua\", \"Tiempo_inyeccion_cola\", \"Tiempo_mezcla_cola\", \"Tiempo_vaciado_mezcla\", \"Molde_inicial_ext1\", \"Molde_final_ext1\", \"Receta\", \"Molde_inicial_ext2\", \"Molde_final_ext2\", \"Tiempo_extraccion_g1\", \"Tiempo_extraccion_g2\",\"nada_1\", \"nada_2\"], inplace=True)\t\n",
    "tramas_automatas=tramas_automatas.loc[:, [\"Fecha\", \"Estacion\", \"Mezcla\", \"Kg_corcho\", \"Kg_cola\", \"Kg_DU\", \"Tapones_buenos_g1\", \"Tapones_buenos_g2\", \"Tapones_malos_g1\", \"Tapones_malos_g2\", \"Tapones_buenos_descartados_g1\", \"Tapones_buenos_descartados_g2\"]]"
   ]
  },
  {
   "cell_type": "markdown",
   "id": "a7ff86a6",
   "metadata": {},
   "source": [
    "Reseteamos el índice de las filas y eliminamos la columna indice que permanece al crear el nuevo."
   ]
  },
  {
   "cell_type": "code",
   "execution_count": 26,
   "id": "e448c2c6",
   "metadata": {},
   "outputs": [],
   "source": [
    "tramas_automatas.reset_index(level=0, inplace=True)\n",
    "tramas_automatas.drop(columns=[\"index\"], inplace=True)"
   ]
  },
  {
   "cell_type": "markdown",
   "id": "2e6efc57",
   "metadata": {},
   "source": [
    "Creamos una seleccion booleana para filtrar las filas con errores en cantiddad de tapones, guardamos el porcentaje de líneas que vamos a reparar y las reparamos poniendo su valor a 0"
   ]
  },
  {
   "cell_type": "code",
   "execution_count": 27,
   "id": "e978f3a4",
   "metadata": {},
   "outputs": [],
   "source": [
    "tf=(tramas_automatas[\"Tapones_malos_g1\"]==65492)\n",
    "error_cantidad_malos= round((len(tf[tf==True])/len(tramas_automatas))*100,2)\n",
    "tramas_automatas.loc[tf, \"Tapones_malos_g1\"]=0"
   ]
  },
  {
   "cell_type": "markdown",
   "id": "88154cac",
   "metadata": {},
   "source": [
    "Pasamos de unidades a millares, agrupamos los campos de tapones, eliminamos los que no necesitamos y ponemos el nombre de las modeadoras correctamente"
   ]
  },
  {
   "cell_type": "code",
   "execution_count": 28,
   "id": "34233ee2",
   "metadata": {},
   "outputs": [],
   "source": [
    "tramas_automatas.loc[:, \"Kg_corcho\"]=tramas_automatas[\"Kg_corcho\"]/1000\n",
    "tramas_automatas.loc[:, \"Kg_cola\"]=tramas_automatas[\"Kg_cola\"]/1000\n",
    "tramas_automatas.loc[:, \"Kg_DU\"]=tramas_automatas[\"Kg_DU\"]/1000\n",
    "tramas_automatas.loc[:, \"Tapones_buenos\"]=(tramas_automatas[\"Tapones_buenos_g1\"]+tramas_automatas[\"Tapones_buenos_g2\"])/1000\n",
    "tramas_automatas.loc[:, \"Tapones_malos\"]=(tramas_automatas[\"Tapones_malos_g1\"]+tramas_automatas[\"Tapones_malos_g2\"])/1000\n",
    "tramas_automatas.loc[:, \"Tapones_buenos_descartados\"]=(tramas_automatas[\"Tapones_buenos_descartados_g1\"]+tramas_automatas[\"Tapones_buenos_descartados_g2\"])/1000\n",
    "tramas_automatas.drop(columns=[\"Tapones_buenos_g1\", \"Tapones_buenos_g2\", \"Tapones_malos_g1\", \"Tapones_malos_g2\", \"Tapones_buenos_descartados_g1\", \"Tapones_buenos_descartados_g2\"], inplace=True)\n",
    "tramas_automatas[\"Estacion\"].replace([10], \"MA10\", inplace=True)\n",
    "tramas_automatas[\"Estacion\"].replace([1], \"MA11\", inplace=True)\n",
    "tramas_automatas[\"Estacion\"].replace([12], \"MA12\", inplace=True)\n",
    "tramas_automatas[\"Estacion\"].replace([13], \"MA13\", inplace=True)\n",
    "tramas_automatas[\"Estacion\"].replace([14], \"MA14\", inplace=True)\n",
    "tramas_automatas[\"Estacion\"].replace([15], \"MA15\", inplace=True)"
   ]
  },
  {
   "cell_type": "markdown",
   "id": "3ae92b7e",
   "metadata": {},
   "source": [
    "Guardamos el total de registros y eliminamos los duplicados. "
   ]
  },
  {
   "cell_type": "code",
   "execution_count": 29,
   "id": "44ea5d7d",
   "metadata": {},
   "outputs": [],
   "source": [
    "total_registros=len(tramas_automatas)\n",
    "tramas_automatas.drop_duplicates([\"Fecha\", \"Estacion\", \"Mezcla\"], keep=\"first\", inplace=True)"
   ]
  },
  {
   "cell_type": "markdown",
   "id": "ac5a1fd5",
   "metadata": {},
   "source": [
    "1. Convertimos la fecha de cadena a tipo datetime\n",
    "2. Ordenamos los valores\n",
    "3. Borramos las filas de fechas que no pertenecen al periodo seleccionado"
   ]
  },
  {
   "cell_type": "code",
   "execution_count": 30,
   "id": "03ef6693",
   "metadata": {},
   "outputs": [],
   "source": [
    "tramas_automatas[\"Fecha\"]=pd.to_datetime(tramas_automatas[\"Fecha\"], format=\"%d/%m/%y\")\n",
    "tramas_automatas.sort_values(by=[\"Fecha\", \"Estacion\", \"Mezcla\"], inplace=True)\n",
    "tramas_automatas=tramas_automatas.loc[(tramas_automatas[\"Fecha\"]>=fecha_inicio) & (tramas_automatas[\"Fecha\"]<=fecha_fin)]"
   ]
  },
  {
   "cell_type": "markdown",
   "id": "b2dc007e",
   "metadata": {},
   "source": [
    "Guardamos el pordcentaje de filas eliminadas."
   ]
  },
  {
   "cell_type": "code",
   "execution_count": 31,
   "id": "0ccbb44a",
   "metadata": {},
   "outputs": [
    {
     "data": {
      "text/plain": [
       "28.16"
      ]
     },
     "execution_count": 31,
     "metadata": {},
     "output_type": "execute_result"
    }
   ],
   "source": [
    "error_mezclas_duplicadas=round((1-(len(tramas_automatas)/total_registros))*100,2)\n",
    "error_mezclas_duplicadas"
   ]
  },
  {
   "cell_type": "code",
   "execution_count": 32,
   "id": "f04b43f1",
   "metadata": {},
   "outputs": [],
   "source": [
    "#create csv file with commain float fields\n",
    "tramas_automatas.to_csv(\"tramas_generado.csv\", sep=\";\", encoding=\"latin-1\", index=False,decimal=\",\")"
   ]
  }
 ],
 "metadata": {
  "kernelspec": {
   "display_name": "Python 3.10.2 64-bit",
   "language": "python",
   "name": "python3"
  },
  "language_info": {
   "codemirror_mode": {
    "name": "ipython",
    "version": 3
   },
   "file_extension": ".py",
   "mimetype": "text/x-python",
   "name": "python",
   "nbconvert_exporter": "python",
   "pygments_lexer": "ipython3",
   "version": "3.10.2"
  },
  "vscode": {
   "interpreter": {
    "hash": "63b9566f2ee17808342e65f1c72bcf10ae9ec18cf9a881870640c13c12a628c8"
   }
  }
 },
 "nbformat": 4,
 "nbformat_minor": 5
}
